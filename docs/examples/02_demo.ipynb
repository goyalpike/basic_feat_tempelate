{
 "cells": [
  {
   "cell_type": "code",
   "execution_count": 1,
   "id": "f10dc47e",
   "metadata": {
    "execution": {
     "iopub.execute_input": "2024-08-25T16:58:14.077527Z",
     "iopub.status.busy": "2024-08-25T16:58:14.077182Z",
     "iopub.status.idle": "2024-08-25T16:58:14.088060Z",
     "shell.execute_reply": "2024-08-25T16:58:14.087135Z"
    }
   },
   "outputs": [],
   "source": [
    "from math_ops.basic_math_ops import Multiplier"
   ]
  },
  {
   "cell_type": "code",
   "execution_count": 2,
   "id": "51f179c9",
   "metadata": {
    "execution": {
     "iopub.execute_input": "2024-08-25T16:58:14.091965Z",
     "iopub.status.busy": "2024-08-25T16:58:14.091637Z",
     "iopub.status.idle": "2024-08-25T16:58:14.096739Z",
     "shell.execute_reply": "2024-08-25T16:58:14.095791Z"
    }
   },
   "outputs": [
    {
     "name": "stdout",
     "output_type": "stream",
     "text": [
      "three_mtulplier of 10 is 30.\n"
     ]
    }
   ],
   "source": [
    "three_multiplier = Multiplier(3)\n",
    "a = 10\n",
    "b = three_multiplier(a)\n",
    "print(f\"three_multiplier of {a} is {b}.\")"
   ]
  }
 ],
 "metadata": {
  "kernelspec": {
   "display_name": "fastai_22",
   "language": "python",
   "name": "python3"
  },
  "language_info": {
   "codemirror_mode": {
    "name": "ipython",
    "version": 3
   },
   "file_extension": ".py",
   "mimetype": "text/x-python",
   "name": "python",
   "nbconvert_exporter": "python",
   "pygments_lexer": "ipython3",
   "version": "3.9.19"
  }
 },
 "nbformat": 4,
 "nbformat_minor": 5
}
