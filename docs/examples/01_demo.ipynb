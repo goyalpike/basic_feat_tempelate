{
 "cells": [
  {
   "cell_type": "code",
   "execution_count": 1,
   "id": "b77b2a68",
   "metadata": {
    "execution": {
     "iopub.execute_input": "2024-08-25T16:58:12.869352Z",
     "iopub.status.busy": "2024-08-25T16:58:12.868984Z",
     "iopub.status.idle": "2024-08-25T16:58:12.879839Z",
     "shell.execute_reply": "2024-08-25T16:58:12.879014Z"
    }
   },
   "outputs": [],
   "source": [
    "from math_ops.basic_math_ops import Adder"
   ]
  },
  {
   "cell_type": "markdown",
   "id": "3ff8461c",
   "metadata": {},
   "source": [
    "Define an instance which always adds five."
   ]
  },
  {
   "cell_type": "code",
   "execution_count": 2,
   "id": "612df16c",
   "metadata": {
    "execution": {
     "iopub.execute_input": "2024-08-25T16:58:12.883783Z",
     "iopub.status.busy": "2024-08-25T16:58:12.883446Z",
     "iopub.status.idle": "2024-08-25T16:58:12.888291Z",
     "shell.execute_reply": "2024-08-25T16:58:12.887347Z"
    }
   },
   "outputs": [
    {
     "name": "stdout",
     "output_type": "stream",
     "text": [
      "five_adder to 10 is 15.\n"
     ]
    }
   ],
   "source": [
    "five_adder = Adder(5)\n",
    "a = 20\n",
    "b = five_adder(a)\n",
    "print(f\"five_adder to {a} is {b}.\")"
   ]
  }
 ],
 "metadata": {
  "kernelspec": {
   "display_name": "fastai_22",
   "language": "python",
   "name": "python3"
  },
  "language_info": {
   "codemirror_mode": {
    "name": "ipython",
    "version": 3
   },
   "file_extension": ".py",
   "mimetype": "text/x-python",
   "name": "python",
   "nbconvert_exporter": "python",
   "pygments_lexer": "ipython3",
   "version": "3.9.19"
  }
 },
 "nbformat": 4,
 "nbformat_minor": 5
}
